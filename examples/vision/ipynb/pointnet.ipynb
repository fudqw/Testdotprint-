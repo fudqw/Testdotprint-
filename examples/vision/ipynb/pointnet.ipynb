{
  "cells": [
    {
      "cell_type": "markdown",
      "metadata": {
        "id": "YfgeRy7W0C2J"
      },
      "source": [
        "# Point cloud classification with PointNet\n",
        "\n",
        "**Author:** [David Griffiths](https://dgriffiths3.github.io)<br>\n",
        "**Date created:** 2020/05/25<br>\n",
        "**Last modified:** 2020/05/26<br>\n",
        "**Description:** Implementation of PointNet for ModelNet10 classification."
      ]
    },
    {
      "cell_type": "markdown",
      "metadata": {
        "id": "ipmXClAR0C2N"
      },
      "source": [
        "# Point cloud classification\n"
      ]
    },
    {
      "cell_type": "markdown",
      "metadata": {
        "id": "H65_NZZx0C2N"
      },
      "source": [
        "## Introduction\n",
        "\n",
        "Classification, detection and segmentation of unordered 3D point sets i.e. point clouds\n",
        "is a core problem in computer vision. This example implements the seminal point cloud\n",
        "deep learning paper [PointNet (Qi et al., 2017)](https://arxiv.org/abs/1612.00593). For a\n",
        "detailed intoduction on PointNet see [this blog\n",
        "post](https://medium.com/@luis_gonzales/an-in-depth-look-at-pointnet-111d7efdaa1a).\n"
      ]
    },
    {
      "cell_type": "markdown",
      "metadata": {
        "id": "WyBssV5I0C2O"
      },
      "source": [
        "## Setup\n",
        "\n",
        "If using colab first install trimesh with `!pip install trimesh`.\n"
      ]
    },
    {
      "cell_type": "code",
      "execution_count": 4,
      "metadata": {
        "id": "D0phWSmo0C2O"
      },
      "outputs": [],
      "source": [
        "\n",
        "import os\n",
        "import glob\n",
        "import trimesh\n",
        "import numpy as np\n",
        "import tensorflow as tf\n",
        "from tensorflow import keras\n",
        "from tensorflow.keras import layers\n",
        "from matplotlib import pyplot as plt\n",
        "\n",
        "tf.random.set_seed(1234)\n"
      ]
    },
    {
      "cell_type": "code",
      "source": [
        "!pip install trimesh[easy]"
      ],
      "metadata": {
        "id": "1uMY7jie0LgV",
        "outputId": "3c7dc8be-21fe-4511-8a0c-c1ff45acf753",
        "colab": {
          "base_uri": "https://localhost:8080/"
        }
      },
      "execution_count": 3,
      "outputs": [
        {
          "output_type": "stream",
          "name": "stdout",
          "text": [
            "Looking in indexes: https://pypi.org/simple, https://us-python.pkg.dev/colab-wheels/public/simple/\n",
            "Collecting trimesh[easy]\n",
            "  Downloading trimesh-3.12.9-py3-none-any.whl (652 kB)\n",
            "\u001b[K     |████████████████████████████████| 652 kB 7.3 MB/s \n",
            "\u001b[?25hRequirement already satisfied: numpy in /usr/local/lib/python3.7/dist-packages (from trimesh[easy]) (1.21.6)\n",
            "Collecting rtree\n",
            "  Downloading Rtree-1.0.0-cp37-cp37m-manylinux_2_17_x86_64.manylinux2014_x86_64.whl (1.0 MB)\n",
            "\u001b[K     |████████████████████████████████| 1.0 MB 38.1 MB/s \n",
            "\u001b[?25hRequirement already satisfied: requests in /usr/local/lib/python3.7/dist-packages (from trimesh[easy]) (2.23.0)\n",
            "Requirement already satisfied: lxml in /usr/local/lib/python3.7/dist-packages (from trimesh[easy]) (4.2.6)\n",
            "Collecting svg.path\n",
            "  Downloading svg.path-6.2-py2.py3-none-any.whl (40 kB)\n",
            "\u001b[K     |████████████████████████████████| 40 kB 5.3 MB/s \n",
            "\u001b[?25hCollecting pycollada\n",
            "  Downloading pycollada-0.7.2.tar.gz (107 kB)\n",
            "\u001b[K     |████████████████████████████████| 107 kB 43.4 MB/s \n",
            "\u001b[?25hCollecting colorlog\n",
            "  Downloading colorlog-6.6.0-py2.py3-none-any.whl (11 kB)\n",
            "Requirement already satisfied: setuptools in /usr/local/lib/python3.7/dist-packages (from trimesh[easy]) (57.4.0)\n",
            "Requirement already satisfied: shapely in /usr/local/lib/python3.7/dist-packages (from trimesh[easy]) (1.8.2)\n",
            "Requirement already satisfied: networkx in /usr/local/lib/python3.7/dist-packages (from trimesh[easy]) (2.6.3)\n",
            "Requirement already satisfied: pillow in /usr/local/lib/python3.7/dist-packages (from trimesh[easy]) (7.1.2)\n",
            "Requirement already satisfied: jsonschema in /usr/local/lib/python3.7/dist-packages (from trimesh[easy]) (4.3.3)\n",
            "Requirement already satisfied: scipy in /usr/local/lib/python3.7/dist-packages (from trimesh[easy]) (1.7.3)\n",
            "Requirement already satisfied: pyglet in /usr/local/lib/python3.7/dist-packages (from trimesh[easy]) (1.5.0)\n",
            "Collecting xxhash\n",
            "  Downloading xxhash-3.0.0-cp37-cp37m-manylinux_2_17_x86_64.manylinux2014_x86_64.whl (212 kB)\n",
            "\u001b[K     |████████████████████████████████| 212 kB 40.9 MB/s \n",
            "\u001b[?25hRequirement already satisfied: sympy in /usr/local/lib/python3.7/dist-packages (from trimesh[easy]) (1.7.1)\n",
            "Requirement already satisfied: msgpack in /usr/local/lib/python3.7/dist-packages (from trimesh[easy]) (1.0.4)\n",
            "Requirement already satisfied: chardet in /usr/local/lib/python3.7/dist-packages (from trimesh[easy]) (3.0.4)\n",
            "Requirement already satisfied: pyrsistent!=0.17.0,!=0.17.1,!=0.17.2,>=0.14.0 in /usr/local/lib/python3.7/dist-packages (from jsonschema->trimesh[easy]) (0.18.1)\n",
            "Requirement already satisfied: importlib-resources>=1.4.0 in /usr/local/lib/python3.7/dist-packages (from jsonschema->trimesh[easy]) (5.8.0)\n",
            "Requirement already satisfied: typing-extensions in /usr/local/lib/python3.7/dist-packages (from jsonschema->trimesh[easy]) (4.1.1)\n",
            "Requirement already satisfied: attrs>=17.4.0 in /usr/local/lib/python3.7/dist-packages (from jsonschema->trimesh[easy]) (21.4.0)\n",
            "Requirement already satisfied: importlib-metadata in /usr/local/lib/python3.7/dist-packages (from jsonschema->trimesh[easy]) (4.12.0)\n",
            "Requirement already satisfied: zipp>=3.1.0 in /usr/local/lib/python3.7/dist-packages (from importlib-resources>=1.4.0->jsonschema->trimesh[easy]) (3.8.1)\n",
            "Requirement already satisfied: python-dateutil>=2.2 in /usr/local/lib/python3.7/dist-packages (from pycollada->trimesh[easy]) (2.8.2)\n",
            "Requirement already satisfied: six>=1.5 in /usr/local/lib/python3.7/dist-packages (from python-dateutil>=2.2->pycollada->trimesh[easy]) (1.15.0)\n",
            "Requirement already satisfied: future in /usr/local/lib/python3.7/dist-packages (from pyglet->trimesh[easy]) (0.16.0)\n",
            "Requirement already satisfied: urllib3!=1.25.0,!=1.25.1,<1.26,>=1.21.1 in /usr/local/lib/python3.7/dist-packages (from requests->trimesh[easy]) (1.24.3)\n",
            "Requirement already satisfied: idna<3,>=2.5 in /usr/local/lib/python3.7/dist-packages (from requests->trimesh[easy]) (2.10)\n",
            "Requirement already satisfied: certifi>=2017.4.17 in /usr/local/lib/python3.7/dist-packages (from requests->trimesh[easy]) (2022.6.15)\n",
            "Requirement already satisfied: mpmath>=0.19 in /usr/local/lib/python3.7/dist-packages (from sympy->trimesh[easy]) (1.2.1)\n",
            "Building wheels for collected packages: pycollada\n",
            "  Building wheel for pycollada (setup.py) ... \u001b[?25l\u001b[?25hdone\n",
            "  Created wheel for pycollada: filename=pycollada-0.7.2-py3-none-any.whl size=127028 sha256=b581a071c7f2220f5f231a1fa493505b04567e816170ea0fea5da184a2045840\n",
            "  Stored in directory: /root/.cache/pip/wheels/19/0b/be/6cad4a774484615180dc30a68ff3635fbc36cccf489bcd6543\n",
            "Successfully built pycollada\n",
            "Installing collected packages: xxhash, trimesh, svg.path, rtree, pycollada, colorlog\n",
            "Successfully installed colorlog-6.6.0 pycollada-0.7.2 rtree-1.0.0 svg.path-6.2 trimesh-3.12.9 xxhash-3.0.0\n"
          ]
        }
      ]
    },
    {
      "cell_type": "markdown",
      "metadata": {
        "id": "0aPNgn4Z0C2P"
      },
      "source": [
        "## Load dataset\n",
        "\n",
        "We use the ModelNet10 model dataset, the smaller 10 class version of the ModelNet40\n",
        "dataset. First download the data:\n"
      ]
    },
    {
      "cell_type": "code",
      "execution_count": null,
      "metadata": {
        "id": "aYO3ZWnn0C2Q",
        "outputId": "51056b36-86cc-44e2-805f-33947bbc1995",
        "colab": {
          "base_uri": "https://localhost:8080/"
        }
      },
      "outputs": [
        {
          "output_type": "stream",
          "name": "stdout",
          "text": [
            "Downloading data from http://3dvision.princeton.edu/projects/2014/3DShapeNets/ModelNet10.zip\n",
            "473407488/473402300 [==============================] - 12s 0us/step\n",
            "473415680/473402300 [==============================] - 12s 0us/step\n"
          ]
        }
      ],
      "source": [
        "DATA_DIR = tf.keras.utils.get_file(\n",
        "    \"modelnet.zip\",\n",
        "    \"http://3dvision.princeton.edu/projects/2014/3DShapeNets/ModelNet10.zip\",\n",
        "    extract=True,\n",
        ")\n",
        "DATA_DIR = os.path.join(os.path.dirname(DATA_DIR), \"ModelNet10\")\n"
      ]
    },
    {
      "cell_type": "markdown",
      "metadata": {
        "id": "zxvEvEvY0C2Q"
      },
      "source": [
        "We can use the `trimesh` package to read and visualize the `.off` mesh files.\n"
      ]
    },
    {
      "cell_type": "code",
      "execution_count": null,
      "metadata": {
        "id": "LZFGKS7I0C2R"
      },
      "outputs": [],
      "source": [
        "mesh = trimesh.load(os.path.join(DATA_DIR, \"chair/train/chair_0001.off\"))\n",
        "mesh.show()\n"
      ]
    },
    {
      "cell_type": "markdown",
      "metadata": {
        "id": "mQ9UtbV40C2S"
      },
      "source": [
        "To convert a mesh file to a point cloud we first need to sample points on the mesh\n",
        "surface. `.sample()` performs a unifrom random sampling. Here we sample at 2048 locations\n",
        "and visualize in `matplotlib`.\n"
      ]
    },
    {
      "cell_type": "code",
      "execution_count": null,
      "metadata": {
        "id": "qCAO18W70C2S"
      },
      "outputs": [],
      "source": [
        "points = mesh.sample(2048)\n",
        "\n",
        "fig = plt.figure(figsize=(5, 5))\n",
        "ax = fig.add_subplot(111, projection=\"3d\")\n",
        "ax.scatter(points[:, 0], points[:, 1], points[:, 2])\n",
        "ax.set_axis_off()\n",
        "plt.show()\n"
      ]
    },
    {
      "cell_type": "markdown",
      "metadata": {
        "id": "3YNcI6Vn0C2S"
      },
      "source": [
        "To generate a `tf.data.Dataset()` we need to first parse through the ModelNet data\n",
        "folders. Each mesh is loaded and sampled into a point cloud before being added to a\n",
        "standard python list and converted to a `numpy` array. We also store the current\n",
        "enumerate index value as the object label and use a dictionary to recall this later.\n"
      ]
    },
    {
      "cell_type": "code",
      "execution_count": null,
      "metadata": {
        "id": "yz7Vp6aJ0C2T"
      },
      "outputs": [],
      "source": [
        "\n",
        "def parse_dataset(num_points=2048):\n",
        "\n",
        "    train_points = []\n",
        "    train_labels = []\n",
        "    test_points = []\n",
        "    test_labels = []\n",
        "    class_map = {}\n",
        "    folders = glob.glob(os.path.join(DATA_DIR, \"[!README]*\"))\n",
        "\n",
        "    for i, folder in enumerate(folders):\n",
        "        print(\"processing class: {}\".format(os.path.basename(folder)))\n",
        "        # store folder name with ID so we can retrieve later\n",
        "        class_map[i] = folder.split(\"/\")[-1]\n",
        "        # gather all files\n",
        "        train_files = glob.glob(os.path.join(folder, \"train/*\"))\n",
        "        test_files = glob.glob(os.path.join(folder, \"test/*\"))\n",
        "\n",
        "        for f in train_files:\n",
        "            train_points.append(trimesh.load(f).sample(num_points))\n",
        "            train_labels.append(i)\n",
        "\n",
        "        for f in test_files:\n",
        "            test_points.append(trimesh.load(f).sample(num_points))\n",
        "            test_labels.append(i)\n",
        "\n",
        "    return (\n",
        "        np.array(train_points),\n",
        "        np.array(test_points),\n",
        "        np.array(train_labels),\n",
        "        np.array(test_labels),\n",
        "        class_map,\n",
        "    )\n",
        "\n"
      ]
    },
    {
      "cell_type": "markdown",
      "metadata": {
        "id": "KiLAZpVp0C2T"
      },
      "source": [
        "Set the number of points to sample and batch size and parse the dataset. This can take\n",
        "~5minutes to complete.\n"
      ]
    },
    {
      "cell_type": "code",
      "execution_count": null,
      "metadata": {
        "id": "HaFdblyr0C2U"
      },
      "outputs": [],
      "source": [
        "NUM_POINTS = 2048\n",
        "NUM_CLASSES = 10\n",
        "BATCH_SIZE = 32\n",
        "\n",
        "train_points, test_points, train_labels, test_labels, CLASS_MAP = parse_dataset(\n",
        "    NUM_POINTS\n",
        ")\n"
      ]
    },
    {
      "cell_type": "markdown",
      "metadata": {
        "id": "XTDAc-wj0C2U"
      },
      "source": [
        "Our data can now be read into a `tf.data.Dataset()` object. We set the shuffle buffer\n",
        "size to the entire size of the dataset as prior to this the data is ordered by class.\n",
        "Data augmentation is important when working with point cloud data. We create a\n",
        "augmentation function to jitter and shuffle the train dataset.\n"
      ]
    },
    {
      "cell_type": "code",
      "execution_count": null,
      "metadata": {
        "id": "3adtolIH0C2U"
      },
      "outputs": [],
      "source": [
        "\n",
        "def augment(points, label):\n",
        "    # jitter points\n",
        "    points += tf.random.uniform(points.shape, -0.005, 0.005, dtype=tf.float64)\n",
        "    # shuffle points\n",
        "    points = tf.random.shuffle(points)\n",
        "    return points, label\n",
        "\n",
        "\n",
        "train_dataset = tf.data.Dataset.from_tensor_slices((train_points, train_labels))\n",
        "test_dataset = tf.data.Dataset.from_tensor_slices((test_points, test_labels))\n",
        "\n",
        "train_dataset = train_dataset.shuffle(len(train_points)).map(augment).batch(BATCH_SIZE)\n",
        "test_dataset = test_dataset.shuffle(len(test_points)).batch(BATCH_SIZE)\n"
      ]
    },
    {
      "cell_type": "markdown",
      "metadata": {
        "id": "_MX0IM5-0C2U"
      },
      "source": [
        "### Build a model\n",
        "\n",
        "Each convolution and fully-connected layer (with exception for end layers) consits of\n",
        "Convolution / Dense -> Batch Normalization -> ReLU Activation.\n"
      ]
    },
    {
      "cell_type": "code",
      "execution_count": null,
      "metadata": {
        "id": "HbfZ9sjj0C2V"
      },
      "outputs": [],
      "source": [
        "\n",
        "def conv_bn(x, filters):\n",
        "    x = layers.Conv1D(filters, kernel_size=1, padding=\"valid\")(x)\n",
        "    x = layers.BatchNormalization(momentum=0.0)(x)\n",
        "    return layers.Activation(\"relu\")(x)\n",
        "\n",
        "\n",
        "def dense_bn(x, filters):\n",
        "    x = layers.Dense(filters)(x)\n",
        "    x = layers.BatchNormalization(momentum=0.0)(x)\n",
        "    return layers.Activation(\"relu\")(x)\n",
        "\n"
      ]
    },
    {
      "cell_type": "markdown",
      "metadata": {
        "id": "TWT_ZHV90C2V"
      },
      "source": [
        "PointNet consists of two core components. The primary MLP network, and the transformer\n",
        "net (T-net). The T-net aims to learn an affine transformation matrix by its own mini\n",
        "network. The T-net is used twice. The first time to transform the input features (n, 3)\n",
        "into a canonical representation. The second is an affine transformation for alignment in\n",
        "feature space (n, 3). As per the original paper we constrain the transformation to be\n",
        "close to an orthogonal matrix (i.e. ||X*X^T - I|| = 0).\n"
      ]
    },
    {
      "cell_type": "code",
      "execution_count": null,
      "metadata": {
        "id": "W6oqTknc0C2V"
      },
      "outputs": [],
      "source": [
        "\n",
        "class OrthogonalRegularizer(keras.regularizers.Regularizer):\n",
        "    def __init__(self, num_features, l2reg=0.001):\n",
        "        self.num_features = num_features\n",
        "        self.l2reg = l2reg\n",
        "        self.eye = tf.eye(num_features)\n",
        "\n",
        "    def __call__(self, x):\n",
        "        x = tf.reshape(x, (-1, self.num_features, self.num_features))\n",
        "        xxt = tf.tensordot(x, x, axes=(2, 2))\n",
        "        xxt = tf.reshape(xxt, (-1, self.num_features, self.num_features))\n",
        "        return tf.reduce_sum(self.l2reg * tf.square(xxt - self.eye))\n",
        "\n"
      ]
    },
    {
      "cell_type": "markdown",
      "metadata": {
        "id": "ENSo24M00C2V"
      },
      "source": [
        " We can then define a general function to build T-net layers.\n"
      ]
    },
    {
      "cell_type": "code",
      "execution_count": null,
      "metadata": {
        "id": "saSeQJT50C2W"
      },
      "outputs": [],
      "source": [
        "\n",
        "def tnet(inputs, num_features):\n",
        "\n",
        "    # Initalise bias as the indentity matrix\n",
        "    bias = keras.initializers.Constant(np.eye(num_features).flatten())\n",
        "    reg = OrthogonalRegularizer(num_features)\n",
        "\n",
        "    x = conv_bn(inputs, 32)\n",
        "    x = conv_bn(x, 64)\n",
        "    x = conv_bn(x, 512)\n",
        "    x = layers.GlobalMaxPooling1D()(x)\n",
        "    x = dense_bn(x, 256)\n",
        "    x = dense_bn(x, 128)\n",
        "    x = layers.Dense(\n",
        "        num_features * num_features,\n",
        "        kernel_initializer=\"zeros\",\n",
        "        bias_initializer=bias,\n",
        "        activity_regularizer=reg,\n",
        "    )(x)\n",
        "    feat_T = layers.Reshape((num_features, num_features))(x)\n",
        "    # Apply affine transformation to input features\n",
        "    return layers.Dot(axes=(2, 1))([inputs, feat_T])\n",
        "\n"
      ]
    },
    {
      "cell_type": "markdown",
      "metadata": {
        "id": "PnlijhCH0C2W"
      },
      "source": [
        "The main network can be then implemented in the same manner where the t-net mini models\n",
        "can be dropped in a layers in the graph. Here we replicate the network architecture\n",
        "published in the original paper but with half the number of weights at each layer as we\n",
        "are using the smaller 10 class ModelNet dataset.\n"
      ]
    },
    {
      "cell_type": "code",
      "execution_count": null,
      "metadata": {
        "id": "5CDNRyAM0C2W"
      },
      "outputs": [],
      "source": [
        "inputs = keras.Input(shape=(NUM_POINTS, 3))\n",
        "\n",
        "x = tnet(inputs, 3)\n",
        "x = conv_bn(x, 32)\n",
        "x = conv_bn(x, 32)\n",
        "x = tnet(x, 32)\n",
        "x = conv_bn(x, 32)\n",
        "x = conv_bn(x, 64)\n",
        "x = conv_bn(x, 512)\n",
        "x = layers.GlobalMaxPooling1D()(x)\n",
        "x = dense_bn(x, 256)\n",
        "x = layers.Dropout(0.3)(x)\n",
        "x = dense_bn(x, 128)\n",
        "x = layers.Dropout(0.3)(x)\n",
        "\n",
        "outputs = layers.Dense(NUM_CLASSES, activation=\"softmax\")(x)\n",
        "\n",
        "model = keras.Model(inputs=inputs, outputs=outputs, name=\"pointnet\")\n",
        "model.summary()\n"
      ]
    },
    {
      "cell_type": "markdown",
      "metadata": {
        "id": "x9CpZ6Qe0C2W"
      },
      "source": [
        "### Train model\n",
        "\n",
        "Once the model is defined it can be trained like any other standard classification model\n",
        "using `.compile()` and `.fit()`.\n"
      ]
    },
    {
      "cell_type": "code",
      "execution_count": null,
      "metadata": {
        "id": "Ed05Go810C2X"
      },
      "outputs": [],
      "source": [
        "model.compile(\n",
        "    loss=\"sparse_categorical_crossentropy\",\n",
        "    optimizer=keras.optimizers.Adam(learning_rate=0.001),\n",
        "    metrics=[\"sparse_categorical_accuracy\"],\n",
        ")\n",
        "\n",
        "model.fit(train_dataset, epochs=20, validation_data=test_dataset)\n"
      ]
    },
    {
      "cell_type": "markdown",
      "metadata": {
        "id": "xAWTVFmq0C2X"
      },
      "source": [
        "## Visualize predictions\n",
        "\n",
        "We can use matplotlib to visualize our trained model performance.\n"
      ]
    },
    {
      "cell_type": "code",
      "execution_count": null,
      "metadata": {
        "id": "NF_fO0mz0C2X"
      },
      "outputs": [],
      "source": [
        "data = test_dataset.take(1)\n",
        "\n",
        "points, labels = list(data)[0]\n",
        "points = points[:8, ...]\n",
        "labels = labels[:8, ...]\n",
        "\n",
        "# run test data through model\n",
        "preds = model.predict(points)\n",
        "preds = tf.math.argmax(preds, -1)\n",
        "\n",
        "points = points.numpy()\n",
        "\n",
        "# plot points with predicted class and label\n",
        "fig = plt.figure(figsize=(15, 10))\n",
        "for i in range(8):\n",
        "    ax = fig.add_subplot(2, 4, i + 1, projection=\"3d\")\n",
        "    ax.scatter(points[i, :, 0], points[i, :, 1], points[i, :, 2])\n",
        "    ax.set_title(\n",
        "        \"pred: {:}, label: {:}\".format(\n",
        "            CLASS_MAP[preds[i].numpy()], CLASS_MAP[labels.numpy()[i]]\n",
        "        )\n",
        "    )\n",
        "    ax.set_axis_off()\n",
        "plt.show()\n"
      ]
    }
  ],
  "metadata": {
    "colab": {
      "collapsed_sections": [],
      "name": "pointnet",
      "provenance": [],
      "toc_visible": true
    },
    "kernelspec": {
      "display_name": "Python 3",
      "language": "python",
      "name": "python3"
    },
    "language_info": {
      "codemirror_mode": {
        "name": "ipython",
        "version": 3
      },
      "file_extension": ".py",
      "mimetype": "text/x-python",
      "name": "python",
      "nbconvert_exporter": "python",
      "pygments_lexer": "ipython3",
      "version": "3.7.0"
    }
  },
  "nbformat": 4,
  "nbformat_minor": 0
}